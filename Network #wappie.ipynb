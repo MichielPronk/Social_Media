{
 "cells": [
  {
   "cell_type": "code",
   "execution_count": 72,
   "id": "f783e0fe",
   "metadata": {},
   "outputs": [],
   "source": [
    "import networkx as nx\n",
    "import matplotlib.pyplot as plt\n",
    "import pandas as pd\n",
    "from networkx_viewer import Viewer\n"
   ]
  },
  {
   "cell_type": "code",
   "execution_count": 73,
   "id": "c486ce83",
   "metadata": {},
   "outputs": [],
   "source": [
    "df = pd.read_csv('edges3.csv', sep=';')\n",
    "df.rename(columns=df.iloc[0], inplace=True)\n",
    "df.drop(df.index[0], inplace=True)"
   ]
  },
  {
   "cell_type": "code",
   "execution_count": 74,
   "id": "15d10d2f",
   "metadata": {},
   "outputs": [
    {
     "name": "stdout",
     "output_type": "stream",
     "text": [
      "            Vertex 1         Vertex 2 Color Width Style Opacity Visibility  \\\n",
      "1      korinthenbaum  actualiteitjunk   NaN   NaN   NaN     NaN        NaN   \n",
      "2          ghostway5        ghostway5   NaN   NaN   NaN     NaN        NaN   \n",
      "3           rodirida         rodirida   NaN   NaN   NaN     NaN        NaN   \n",
      "4     real_krukeltje   real_krukeltje   NaN   NaN   NaN     NaN        NaN   \n",
      "5           puck1907  actualiteitjunk   NaN   NaN   NaN     NaN        NaN   \n",
      "...              ...              ...   ...   ...   ...     ...        ...   \n",
      "2633             NaN              NaN   NaN   NaN   NaN     NaN        NaN   \n",
      "2634             NaN              NaN   NaN   NaN   NaN     NaN        NaN   \n",
      "2635             NaN              NaN   NaN   NaN   NaN     NaN        NaN   \n",
      "2636             NaN              NaN   NaN   NaN   NaN     NaN        NaN   \n",
      "2637             NaN              NaN   NaN   NaN   NaN     NaN        NaN   \n",
      "\n",
      "     Label Label Text Color Label Font Size  ...  \\\n",
      "1      NaN              NaN             NaN  ...   \n",
      "2      NaN              NaN             NaN  ...   \n",
      "3      NaN              NaN             NaN  ...   \n",
      "4      NaN              NaN             NaN  ...   \n",
      "5      NaN              NaN             NaN  ...   \n",
      "...    ...              ...             ...  ...   \n",
      "2633   NaN              NaN             NaN  ...   \n",
      "2634   NaN              NaN             NaN  ...   \n",
      "2635   NaN              NaN             NaN  ...   \n",
      "2636   NaN              NaN             NaN  ...   \n",
      "2637   NaN              NaN             NaN  ...   \n",
      "\n",
      "                                                  Tweet  \\\n",
      "1     RT @actualiteitjunk: #keepdistance #COVID19......   \n",
      "2     Als ik dit zeg ben ik een #wappie https://t.co...   \n",
      "3     Wat een idioot volk zijn wij toch..;  meer vri...   \n",
      "4     Aliens speuren naar leven op aarde nadat alle ...   \n",
      "5     RT @actualiteitjunk: #keepdistance #COVID19......   \n",
      "...                                                 ...   \n",
      "2633                                                NaN   \n",
      "2634                                                NaN   \n",
      "2635                                                NaN   \n",
      "2636                                                NaN   \n",
      "2637                                                NaN   \n",
      "\n",
      "                                          URLs in Tweet Domains in Tweet  \\\n",
      "1                                                   NaN              NaN   \n",
      "2     https://twitter.com/Francolinie/status/1386072...      twitter.com   \n",
      "3     https://twitter.com/Nieuwsuur/status/138639989...      twitter.com   \n",
      "4     https://twitter.com/JCompen/status/13864191513...      twitter.com   \n",
      "5                                                   NaN              NaN   \n",
      "...                                                 ...              ...   \n",
      "2633                                                NaN              NaN   \n",
      "2634                                                NaN              NaN   \n",
      "2635                                                NaN              NaN   \n",
      "2636                                                NaN              NaN   \n",
      "2637                                                NaN              NaN   \n",
      "\n",
      "                                Hashtags in Tweet Tweet Date (UTC)  \\\n",
      "1     keepdistance covid19 anderhalvemeter wappie  25-4-2021 20:35   \n",
      "2                                          wappie  25-4-2021 20:46   \n",
      "3                                          wappie  25-4-2021 20:56   \n",
      "4                                          wappie  25-4-2021 21:00   \n",
      "5     keepdistance covid19 anderhalvemeter wappie  25-4-2021 21:12   \n",
      "...                                           ...              ...   \n",
      "2633                                          NaN              NaN   \n",
      "2634                                          NaN              NaN   \n",
      "2635                                          NaN              NaN   \n",
      "2636                                          NaN              NaN   \n",
      "2637                                          NaN              NaN   \n",
      "\n",
      "                                 Twitter Page for Tweet Latitude Longitude  \\\n",
      "1     https://twitter.com/#!/korinthenbaum/status/13...      NaN       NaN   \n",
      "2     https://twitter.com/#!/ghostway5/status/138642...      NaN       NaN   \n",
      "3     https://twitter.com/#!/rodirida/status/1386423...      NaN       NaN   \n",
      "4     https://twitter.com/#!/real_krukeltje/status/1...      NaN       NaN   \n",
      "5     https://twitter.com/#!/puck1907/status/1386427...      NaN       NaN   \n",
      "...                                                 ...      ...       ...   \n",
      "2633                                                NaN      NaN       NaN   \n",
      "2634                                                NaN      NaN       NaN   \n",
      "2635                                                NaN      NaN       NaN   \n",
      "2636                                                NaN      NaN       NaN   \n",
      "2637                                                NaN      NaN       NaN   \n",
      "\n",
      "              Imported ID In-Reply-To Tweet ID  \n",
      "1     1386418722706010113                  NaN  \n",
      "2     1386421369156505600                  NaN  \n",
      "3     1386423938457161735                  NaN  \n",
      "4     1386424845827670017  1386264156266016768  \n",
      "5     1386427936622878726                  NaN  \n",
      "...                   ...                  ...  \n",
      "2633                  NaN                  NaN  \n",
      "2634                  NaN                  NaN  \n",
      "2635                  NaN                  NaN  \n",
      "2636                  NaN                  NaN  \n",
      "2637                  NaN                  NaN  \n",
      "\n",
      "[2637 rows x 26 columns]\n"
     ]
    }
   ],
   "source": [
    "print(df)"
   ]
  },
  {
   "cell_type": "code",
   "execution_count": 82,
   "id": "fb95ecdb",
   "metadata": {},
   "outputs": [],
   "source": [
    "G = nx.Graph()\n",
    "for i in range(1, len(df)):\n",
    "   # if df.iloc[i]['Vertex 1'] != df.iloc[i]['Vertex 2']:\n",
    "    G.add_edge(df.iloc[i]['Vertex 1'], df.iloc[i]['Vertex 2'])\n"
   ]
  },
  {
   "cell_type": "code",
   "execution_count": 85,
   "id": "b4320783",
   "metadata": {},
   "outputs": [
    {
     "data": {
      "image/png": "[encoded data removed]",
      "text/plain": [
       "<Figure size 432x288 with 1 Axes>"
      ]
     },
     "metadata": {},
     "output_type": "display_data"
    }
   ],
   "source": [
    "nx.draw(G, node_size=10)\n",
    "plt.show()"
   ]
  },
  {
   "cell_type": "code",
   "execution_count": null,
   "id": "d4dfb98c",
   "metadata": {},
   "outputs": [],
   "source": []
  },
  {
   "cell_type": "code",
   "execution_count": null,
   "id": "9cbc93e2",
   "metadata": {},
   "outputs": [],
   "source": []
  },
  {
   "cell_type": "code",
   "execution_count": null,
   "id": "015816c7",
   "metadata": {},
   "outputs": [],
   "source": []
  }
 ],
 "metadata": {
  "kernelspec": {
   "display_name": "Python 3",
   "language": "python",
   "name": "python3"
  },
  "language_info": {
   "codemirror_mode": {
    "name": "ipython",
    "version": 3
   },
   "file_extension": ".py",
   "mimetype": "text/x-python",
   "name": "python",
   "nbconvert_exporter": "python",
   "pygments_lexer": "ipython3",
   "version": "3.9.4"
  }
 },
 "nbformat": 4,
 "nbformat_minor": 5
}
