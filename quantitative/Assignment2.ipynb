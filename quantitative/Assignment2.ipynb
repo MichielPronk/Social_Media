{
 "cells": [
  {
   "cell_type": "code",
   "execution_count": 77,
   "id": "94ecf6f2",
   "metadata": {},
   "outputs": [],
   "source": [
    "import pandas as pd\n",
    "import seaborn as sns\n",
    "import spacy # Dutch language package required (python -m spacy download nl_core_news_lg)\n",
    "import nltk \n",
    "from nltk.sentiment.vader import SentimentIntensityAnalyzer"
   ]
  },
  {
   "cell_type": "code",
   "execution_count": 78,
   "id": "ca4f842e",
   "metadata": {},
   "outputs": [],
   "source": [
    "df = pd.read_excel('dataset.xlsx')"
   ]
  },
  {
   "cell_type": "code",
   "execution_count": 79,
   "id": "4a5be955",
   "metadata": {
    "scrolled": true
   },
   "outputs": [],
   "source": [
    "df = df.dropna(axis=1, how='all')\n",
    "df.head()\n",
    "TBT = df[(df['INTERFACEUSED'] == 'TBT') & (df['TURNTYPE'] == 'TBT')]\n",
    "WYS = df[df['INTERFACEUSED'] == 'WYSIWYG']\n",
    "test = WYS[(WYS['dyadid'] == 4) & (WYS['GameNo'] == 0)]"
   ]
  },
  {
   "cell_type": "code",
   "execution_count": 80,
   "id": "222ac77e",
   "metadata": {},
   "outputs": [],
   "source": [
    "temp_string1, temp_string2 = '', ''\n",
    "WYS_turn_list, participant1, participant2, time_lengths = [], [], [], []\n",
    "timestamps = set()\n",
    "gameid = WYS.iloc[0].GameNo\n",
    "for index, row in WYS.iterrows():\n",
    "    if gameid != row.GameNo:\n",
    "        WYS_turn_list.append(([turn for turn in participant1 if turn != '' and turn != 'CORRECT' and turn != ' '], [turn for turn in participant2 if turn != '' and turn != 'CORRECT' and turn != ' ']))\n",
    "        time_lengths.append((max(timestamps) - min(timestamps))/1000)\n",
    "        participant1, participant2, timestamps = [],[],set()  \n",
    "        gameid = row.GameNo\n",
    "    timestamps.add(row.TimestampReceived)\n",
    "    item = str(row.Text)\n",
    "    if row.Sender == 'Participant1':\n",
    "        if len(item) == 1:\n",
    "            temp_string1 += item\n",
    "        elif len(temp_string1) != 0 and len(item) != 0:\n",
    "            participant1.append(temp_string1)\n",
    "            participant1.append(item)\n",
    "            temp_string1 = ''\n",
    "        else:\n",
    "            participant1.append(item)\n",
    "    else:\n",
    "        if len(item) == 1:\n",
    "            temp_string2 += item\n",
    "        elif len(temp_string2) != 0 and len(item) != 0:\n",
    "            participant2.append(temp_string2)\n",
    "            participant2.append(item)\n",
    "            temp_string2 = ''\n",
    "        else:\n",
    "            participant2.append(item)\n",
    "WYS_turn_list.append(([turn for turn in participant1 if turn != '' and turn != 'CORRECT'], [turn for turn in participant2 if turn != '' and turn != 'CORRECT']))\n",
    "time_lengths.append((max(timestamps) - min(timestamps))/1000)\n"
   ]
  },
  {
   "cell_type": "code",
   "execution_count": 81,
   "id": "603e3639",
   "metadata": {},
   "outputs": [],
   "source": [
    "TBT_turn_list, participant1, participant2 = [], [], []\n",
    "timestamps = set()\n",
    "gameid = TBT.iloc[0].GameNo\n",
    "for index, row in TBT.iterrows():\n",
    "    if gameid != row.GameNo:\n",
    "        TBT_turn_list.append(([turn for turn in participant1 if turn != '' and turn != 'CORRECT'], [turn for turn in participant2 if turn != '' and turn != 'CORRECT']))\n",
    "        time_lengths.append((max(timestamps) - min(timestamps))/1000)\n",
    "        participant1, participant2, timestamps = [],[], set()\n",
    "        gameid = row.GameNo\n",
    "    item = str(row.Text).strip()\n",
    "    timestamps.add(row.TimestampReceived)\n",
    "    if row.Sender == 'Participant1':\n",
    "        participant1.append(item)\n",
    "    else:\n",
    "        participant2.append(item)\n",
    "TBT_turn_list.append(([turn for turn in participant1 if turn != '' and turn != 'CORRECT'], [turn for turn in participant2 if turn != '' and turn != 'CORRECT']))\n",
    "time_lengths.append((max(timestamps) - min(timestamps))/1000)\n"
   ]
  },
  {
   "cell_type": "code",
   "execution_count": 82,
   "id": "8b54a706",
   "metadata": {},
   "outputs": [],
   "source": [
    "# Q1: Calculate the average number of turns per interface (efficiency)"
   ]
  },
  {
   "cell_type": "code",
   "execution_count": 83,
   "id": "4ac21398",
   "metadata": {},
   "outputs": [
    {
     "name": "stdout",
     "output_type": "stream",
     "text": [
      "The average length of a WYSIWYG conversation is 50 turns\n",
      "The average length of a TBT conversation is 24 turns\n"
     ]
    }
   ],
   "source": [
    "length_WYS = 0\n",
    "all_lengths_WYS = []\n",
    "ratios_WYS = []\n",
    "for conversation in WYS_turn_list:\n",
    "    length_WYS += len(conversation[0]) + len(conversation[1])\n",
    "    try:\n",
    "        log_odds = math.log(len(conversation[0])/len(conversation[1]))\n",
    "        ratios_WYS.append(log_odds)\n",
    "    except ZeroDivisionError:\n",
    "        pass\n",
    "    all_lengths_WYS.append([len(conversation[0]) + len(conversation[1]), log_odds, 'WYS'])\n",
    "\n",
    "print('The average length of a WYSIWYG conversation is {0:.0f} turns'.format(length_WYS/len(WYS_turn_list)))\n",
    "\n",
    "length_TBT = 0\n",
    "all_lengths_TBT = []\n",
    "ratios_TBT = []\n",
    "for conversation in TBT_turn_list:\n",
    "    length_TBT += len(conversation[0]) + len(conversation[1])\n",
    "    try:\n",
    "        log_odds = math.log(len(conversation[0])/len(conversation[1]))\n",
    "        ratios_TBT.append(log_odds)\n",
    "    except ZeroDivisionError:\n",
    "        pass\n",
    "    all_lengths_TBT.append([len(conversation[0]) + len(conversation[1]), log_odds, 'TBT'])\n",
    "\n",
    "print('The average length of a TBT conversation is {0:.0f} turns'.format(length_TBT/len(TBT_turn_list)))\n",
    "    "
   ]
  },
  {
   "cell_type": "code",
   "execution_count": 84,
   "id": "2471be52",
   "metadata": {},
   "outputs": [],
   "source": [
    "interface_df = pd.DataFrame(all_lengths_WYS + all_lengths_TBT, columns=['Length', 'LogOdds', 'Interface'])"
   ]
  },
  {
   "cell_type": "code",
   "execution_count": 85,
   "id": "c0a1f9c6",
   "metadata": {},
   "outputs": [
    {
     "data": {
      "text/plain": [
       "<AxesSubplot:xlabel='Interface', ylabel='Length'>"
      ]
     },
     "execution_count": 85,
     "metadata": {},
     "output_type": "execute_result"
    },
    {
     "data": {
      "image/png": "[encoded data removed]",
      "text/plain": [
       "<Figure size 432x288 with 1 Axes>"
      ]
     },
     "metadata": {
      "needs_background": "light"
     },
     "output_type": "display_data"
    }
   ],
   "source": [
    "sns.boxplot(x=interface_df['Interface'], y=interface_df['Length'], showfliers=False)"
   ]
  },
  {
   "cell_type": "code",
   "execution_count": 86,
   "id": "ba1988c1",
   "metadata": {},
   "outputs": [],
   "source": [
    "# Q2: Calculate ratios of turn by participant1 to participant2 (Turn taking)"
   ]
  },
  {
   "cell_type": "code",
   "execution_count": 87,
   "id": "995fbfd2",
   "metadata": {},
   "outputs": [
    {
     "name": "stdout",
     "output_type": "stream",
     "text": [
      "0.042134187051223404\n",
      "0.04182711905735217\n"
     ]
    }
   ],
   "source": [
    "print(sum(ratios_TBT)/len(ratios_TBT))\n",
    "print(sum(ratios_WYS)/len(ratios_WYS))"
   ]
  },
  {
   "cell_type": "code",
   "execution_count": 88,
   "id": "bb9d2dfa",
   "metadata": {},
   "outputs": [
    {
     "data": {
      "text/plain": [
       "<AxesSubplot:xlabel='Interface', ylabel='LogOdds'>"
      ]
     },
     "execution_count": 88,
     "metadata": {},
     "output_type": "execute_result"
    },
    {
     "data": {
      "image/png": "[encoded data removed]",
      "text/plain": [
       "<Figure size 432x288 with 1 Axes>"
      ]
     },
     "metadata": {
      "needs_background": "light"
     },
     "output_type": "display_data"
    }
   ],
   "source": [
    "sns.boxplot(x=interface_df['Interface'], y=interface_df['LogOdds'], showfliers=False)"
   ]
  },
  {
   "cell_type": "code",
   "execution_count": 89,
   "id": "9fd855b0",
   "metadata": {},
   "outputs": [],
   "source": [
    "# Q3: Calculate similarity of the conversations"
   ]
  },
  {
   "cell_type": "code",
   "execution_count": 90,
   "id": "48fabd88",
   "metadata": {},
   "outputs": [],
   "source": [
    "nlp = spacy.load('nl_core_news_lg')"
   ]
  },
  {
   "cell_type": "code",
   "execution_count": 91,
   "id": "50fd7ca9",
   "metadata": {},
   "outputs": [],
   "source": [
    "sentiment = SentimentIntensityAnalyzer()"
   ]
  },
  {
   "cell_type": "code",
   "execution_count": 92,
   "id": "c69ba155",
   "metadata": {},
   "outputs": [
    {
     "name": "stderr",
     "output_type": "stream",
     "text": [
      "<ipython-input-92-f08e239d16a8>:16: UserWarning: [W008] Evaluating Doc.similarity based on empty vectors.\n",
      "  WYS_similarity_scores.append(convo1.similarity(convo2))\n"
     ]
    }
   ],
   "source": [
    "TBT_similarity_scores, WYS_similarity_scores, TBT_sentiment_scores, WYS_sentiment_scores, TBT_synchrony_scores, WYS_synchrony_scores = [],[],[],[],[],[]\n",
    "for i in range(len(TBT_turn_list)):\n",
    "    convo1 = nlp(' '.join(TBT_turn_list[i][0]))\n",
    "    convo2 = nlp(' '.join(TBT_turn_list[i][1]))\n",
    "    sentiment1 = sentiment.polarity_scores(' '.join(TBT_turn_list[i][0]))\n",
    "    sentiment2 = sentiment.polarity_scores(' '.join(TBT_turn_list[i][1]))\n",
    "    TBT_similarity_scores.append(convo1.similarity(convo2))\n",
    "    TBT_sentiment_scores.append((sentiment1['pos']+sentiment2['pos'])/2)\n",
    "    TBT_synchrony_scores.append(abs(sentiment1['neg']-sentiment2['neg']) + abs(sentiment1['neu']-sentiment2['neu']) + abs(sentiment1['pos']-sentiment2['pos']))\n",
    "    \n",
    "for i in range(len(WYS_turn_list)):\n",
    "    convo1 = nlp(' '.join(WYS_turn_list[i][0]))\n",
    "    convo2 = nlp(' '.join(WYS_turn_list[i][1]))\n",
    "    sentiment1 = sentiment.polarity_scores(' '.join(WYS_turn_list[i][0]))\n",
    "    sentiment2 = sentiment.polarity_scores(' '.join(WYS_turn_list[i][1]))\n",
    "    WYS_similarity_scores.append(convo1.similarity(convo2))\n",
    "    WYS_sentiment_scores.append((sentiment1['pos']+sentiment2['pos'])/2)\n",
    "    WYS_synchrony_scores.append(abs(sentiment1['neg']-sentiment2['neg']) + abs(sentiment1['neu']-sentiment2['neu']) + abs(sentiment1['pos']-sentiment2['pos']))"
   ]
  },
  {
   "cell_type": "code",
   "execution_count": 93,
   "id": "9121a010",
   "metadata": {},
   "outputs": [],
   "source": [
    "interface_df['Similarity'] = (WYS_similarity_scores+TBT_similarity_scores)\n",
    "interface_df['Happiness'] = (WYS_sentiment_scores+TBT_sentiment_scores)\n",
    "interface_df['Synchrony'] = (WYS_synchrony_scores+TBT_synchrony_scores)\n",
    "interface_df['Time'] = (time_lengths)"
   ]
  },
  {
   "cell_type": "code",
   "execution_count": 94,
   "id": "0611be06",
   "metadata": {},
   "outputs": [
    {
     "data": {
      "text/plain": [
       "<AxesSubplot:xlabel='Interface', ylabel='Similarity'>"
      ]
     },
     "execution_count": 94,
     "metadata": {},
     "output_type": "execute_result"
    },
    {
     "data": {
      "image/png": "[encoded data removed]",
      "text/plain": [
       "<Figure size 432x288 with 1 Axes>"
      ]
     },
     "metadata": {
      "needs_background": "light"
     },
     "output_type": "display_data"
    }
   ],
   "source": [
    "sns.boxplot(x=interface_df['Interface'], y=interface_df['Similarity'], showfliers=False)"
   ]
  },
  {
   "cell_type": "code",
   "execution_count": 95,
   "id": "6519b584",
   "metadata": {},
   "outputs": [
    {
     "data": {
      "text/plain": [
       "<AxesSubplot:xlabel='Interface', ylabel='Happiness'>"
      ]
     },
     "execution_count": 95,
     "metadata": {},
     "output_type": "execute_result"
    },
    {
     "data": {
      "image/png": "[encoded data removed]",
      "text/plain": [
       "<Figure size 432x288 with 1 Axes>"
      ]
     },
     "metadata": {
      "needs_background": "light"
     },
     "output_type": "display_data"
    }
   ],
   "source": [
    "sns.boxplot(x=interface_df['Interface'], y=interface_df['Happiness'], showfliers=False)"
   ]
  },
  {
   "cell_type": "code",
   "execution_count": 96,
   "id": "ee4193fa",
   "metadata": {},
   "outputs": [
    {
     "data": {
      "text/plain": [
       "<AxesSubplot:xlabel='Interface', ylabel='Synchrony'>"
      ]
     },
     "execution_count": 96,
     "metadata": {},
     "output_type": "execute_result"
    },
    {
     "data": {
      "image/png": "[encoded data removed]",
      "text/plain": [
       "<Figure size 432x288 with 1 Axes>"
      ]
     },
     "metadata": {
      "needs_background": "light"
     },
     "output_type": "display_data"
    }
   ],
   "source": [
    "sns.boxplot(x=interface_df['Interface'], y=interface_df['Synchrony'], showfliers=False)"
   ]
  },
  {
   "cell_type": "code",
   "execution_count": 97,
   "id": "6bba7df8",
   "metadata": {},
   "outputs": [
    {
     "data": {
      "text/plain": [
       "<AxesSubplot:xlabel='Interface', ylabel='Time'>"
      ]
     },
     "execution_count": 97,
     "metadata": {},
     "output_type": "execute_result"
    },
    {
     "data": {
      "image/png": "[encoded data removed]",
      "text/plain": [
       "<Figure size 432x288 with 1 Axes>"
      ]
     },
     "metadata": {
      "needs_background": "light"
     },
     "output_type": "display_data"
    }
   ],
   "source": [
    "sns.boxplot(x=interface_df['Interface'], y=interface_df['Time'], showfliers=False)"
   ]
  }
 ],
 "metadata": {
  "kernelspec": {
   "display_name": "Python 3",
   "language": "python",
   "name": "python3"
  },
  "language_info": {
   "codemirror_mode": {
    "name": "ipython",
    "version": 3
   },
   "file_extension": ".py",
   "mimetype": "text/x-python",
   "name": "python",
   "nbconvert_exporter": "python",
   "pygments_lexer": "ipython3",
   "version": "3.9.5"
  }
 },
 "nbformat": 4,
 "nbformat_minor": 5
}
